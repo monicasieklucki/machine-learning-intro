{
 "cells": [
  {
   "cell_type": "code",
   "execution_count": 242,
   "metadata": {},
   "outputs": [],
   "source": [
    "import numpy as np\n",
    "import pandas as pd\n",
    "import matplotlib.pyplot as plt"
   ]
  },
  {
   "cell_type": "code",
   "execution_count": 243,
   "metadata": {},
   "outputs": [],
   "source": [
    "#μ=∑i=mN(Ni)pi(1−p)N−i\n",
    "\n",
    "#96.67"
   ]
  },
  {
   "cell_type": "code",
   "execution_count": 244,
   "metadata": {},
   "outputs": [],
   "source": [
    "def impute_nan_with_median(table):\n",
    "    for col in table.columns:\n",
    "        table[col]= table[col].fillna(table[col].median())\n",
    "    return table "
   ]
  },
  {
   "cell_type": "code",
   "execution_count": 245,
   "metadata": {},
   "outputs": [
    {
     "data": {
      "text/html": [
       "<div>\n",
       "<style scoped>\n",
       "    .dataframe tbody tr th:only-of-type {\n",
       "        vertical-align: middle;\n",
       "    }\n",
       "\n",
       "    .dataframe tbody tr th {\n",
       "        vertical-align: top;\n",
       "    }\n",
       "\n",
       "    .dataframe thead th {\n",
       "        text-align: right;\n",
       "    }\n",
       "</style>\n",
       "<table border=\"1\" class=\"dataframe\">\n",
       "  <thead>\n",
       "    <tr style=\"text-align: right;\">\n",
       "      <th></th>\n",
       "      <th>SeriousDlqin2yrs</th>\n",
       "      <th>age</th>\n",
       "      <th>NumberOfTime30-59DaysPastDueNotWorse</th>\n",
       "      <th>DebtRatio</th>\n",
       "      <th>NumberOfTimes90DaysLate</th>\n",
       "      <th>NumberOfTime60-89DaysPastDueNotWorse</th>\n",
       "      <th>MonthlyIncome</th>\n",
       "      <th>NumberOfDependents</th>\n",
       "    </tr>\n",
       "  </thead>\n",
       "  <tbody>\n",
       "    <tr>\n",
       "      <th>0</th>\n",
       "      <td>0</td>\n",
       "      <td>64</td>\n",
       "      <td>0</td>\n",
       "      <td>0.249908</td>\n",
       "      <td>0</td>\n",
       "      <td>0</td>\n",
       "      <td>8158.0</td>\n",
       "      <td>0.0</td>\n",
       "    </tr>\n",
       "    <tr>\n",
       "      <th>1</th>\n",
       "      <td>0</td>\n",
       "      <td>58</td>\n",
       "      <td>0</td>\n",
       "      <td>3870.000000</td>\n",
       "      <td>0</td>\n",
       "      <td>0</td>\n",
       "      <td>NaN</td>\n",
       "      <td>0.0</td>\n",
       "    </tr>\n",
       "    <tr>\n",
       "      <th>2</th>\n",
       "      <td>0</td>\n",
       "      <td>41</td>\n",
       "      <td>0</td>\n",
       "      <td>0.456127</td>\n",
       "      <td>0</td>\n",
       "      <td>0</td>\n",
       "      <td>6666.0</td>\n",
       "      <td>0.0</td>\n",
       "    </tr>\n",
       "    <tr>\n",
       "      <th>3</th>\n",
       "      <td>0</td>\n",
       "      <td>43</td>\n",
       "      <td>0</td>\n",
       "      <td>0.000190</td>\n",
       "      <td>0</td>\n",
       "      <td>0</td>\n",
       "      <td>10500.0</td>\n",
       "      <td>2.0</td>\n",
       "    </tr>\n",
       "    <tr>\n",
       "      <th>4</th>\n",
       "      <td>1</td>\n",
       "      <td>49</td>\n",
       "      <td>0</td>\n",
       "      <td>0.271820</td>\n",
       "      <td>0</td>\n",
       "      <td>0</td>\n",
       "      <td>400.0</td>\n",
       "      <td>0.0</td>\n",
       "    </tr>\n",
       "  </tbody>\n",
       "</table>\n",
       "</div>"
      ],
      "text/plain": [
       "   SeriousDlqin2yrs  age  NumberOfTime30-59DaysPastDueNotWorse    DebtRatio  \\\n",
       "0                 0   64                                     0     0.249908   \n",
       "1                 0   58                                     0  3870.000000   \n",
       "2                 0   41                                     0     0.456127   \n",
       "3                 0   43                                     0     0.000190   \n",
       "4                 1   49                                     0     0.271820   \n",
       "\n",
       "   NumberOfTimes90DaysLate  NumberOfTime60-89DaysPastDueNotWorse  \\\n",
       "0                        0                                     0   \n",
       "1                        0                                     0   \n",
       "2                        0                                     0   \n",
       "3                        0                                     0   \n",
       "4                        0                                     0   \n",
       "\n",
       "   MonthlyIncome  NumberOfDependents  \n",
       "0         8158.0                 0.0  \n",
       "1            NaN                 0.0  \n",
       "2         6666.0                 0.0  \n",
       "3        10500.0                 2.0  \n",
       "4          400.0                 0.0  "
      ]
     },
     "execution_count": 245,
     "metadata": {},
     "output_type": "execute_result"
    }
   ],
   "source": [
    "data = pd.read_csv('credit_scoring_sample.csv', sep=\";\")\n",
    "data.head()"
   ]
  },
  {
   "cell_type": "code",
   "execution_count": 136,
   "metadata": {},
   "outputs": [
    {
     "data": {
      "text/plain": [
       "SeriousDlqin2yrs                          int64\n",
       "age                                       int64\n",
       "NumberOfTime30-59DaysPastDueNotWorse      int64\n",
       "DebtRatio                               float64\n",
       "NumberOfTimes90DaysLate                   int64\n",
       "NumberOfTime60-89DaysPastDueNotWorse      int64\n",
       "MonthlyIncome                           float64\n",
       "NumberOfDependents                      float64\n",
       "dtype: object"
      ]
     },
     "execution_count": 136,
     "metadata": {},
     "output_type": "execute_result"
    }
   ],
   "source": [
    "data.dtypes\n"
   ]
  },
  {
   "cell_type": "code",
   "execution_count": 137,
   "metadata": {},
   "outputs": [
    {
     "name": "stdout",
     "output_type": "stream",
     "text": [
      "Distribution of target:\n"
     ]
    },
    {
     "data": {
      "text/plain": [
       "0    0.777511\n",
       "1    0.222489\n",
       "Name: SeriousDlqin2yrs, dtype: float64"
      ]
     },
     "execution_count": 137,
     "metadata": {},
     "output_type": "execute_result"
    },
    {
     "data": {
      "image/png": "[encoded data removed]",
      "text/plain": [
       "<Figure size 432x288 with 1 Axes>"
      ]
     },
     "metadata": {},
     "output_type": "display_data"
    }
   ],
   "source": [
    "ax = data['SeriousDlqin2yrs'].hist(orientation='horizontal', color='red')\n",
    "ax.set_xlabel(\"number_of_observations\")\n",
    "ax.set_ylabel(\"unique_value\")\n",
    "ax.set_title(\"Target distribution\")\n",
    "\n",
    "print('Distribution of target:')\n",
    "data['SeriousDlqin2yrs'].value_counts() / data.shape[0]"
   ]
  },
  {
   "cell_type": "code",
   "execution_count": 246,
   "metadata": {},
   "outputs": [
    {
     "data": {
      "text/plain": [
       "['age',\n",
       " 'NumberOfTime30-59DaysPastDueNotWorse',\n",
       " 'DebtRatio',\n",
       " 'NumberOfTimes90DaysLate',\n",
       " 'NumberOfTime60-89DaysPastDueNotWorse',\n",
       " 'MonthlyIncome',\n",
       " 'NumberOfDependents']"
      ]
     },
     "execution_count": 246,
     "metadata": {},
     "output_type": "execute_result"
    }
   ],
   "source": [
    "independent_columns_names = data.columns.values\n",
    "independent_columns_names = [x for x in data if x != 'SeriousDlqin2yrs']\n",
    "independent_columns_names"
   ]
  },
  {
   "cell_type": "code",
   "execution_count": 247,
   "metadata": {},
   "outputs": [],
   "source": [
    "table = impute_nan_with_median(data)"
   ]
  },
  {
   "cell_type": "code",
   "execution_count": 140,
   "metadata": {},
   "outputs": [
    {
     "data": {
      "text/html": [
       "<div>\n",
       "<style scoped>\n",
       "    .dataframe tbody tr th:only-of-type {\n",
       "        vertical-align: middle;\n",
       "    }\n",
       "\n",
       "    .dataframe tbody tr th {\n",
       "        vertical-align: top;\n",
       "    }\n",
       "\n",
       "    .dataframe thead th {\n",
       "        text-align: right;\n",
       "    }\n",
       "</style>\n",
       "<table border=\"1\" class=\"dataframe\">\n",
       "  <thead>\n",
       "    <tr style=\"text-align: right;\">\n",
       "      <th></th>\n",
       "      <th>SeriousDlqin2yrs</th>\n",
       "      <th>age</th>\n",
       "      <th>NumberOfTime30-59DaysPastDueNotWorse</th>\n",
       "      <th>DebtRatio</th>\n",
       "      <th>NumberOfTimes90DaysLate</th>\n",
       "      <th>NumberOfTime60-89DaysPastDueNotWorse</th>\n",
       "      <th>MonthlyIncome</th>\n",
       "      <th>NumberOfDependents</th>\n",
       "    </tr>\n",
       "  </thead>\n",
       "  <tbody>\n",
       "    <tr>\n",
       "      <th>0</th>\n",
       "      <td>0</td>\n",
       "      <td>64</td>\n",
       "      <td>0</td>\n",
       "      <td>0.249908</td>\n",
       "      <td>0</td>\n",
       "      <td>0</td>\n",
       "      <td>8158.0</td>\n",
       "      <td>0.0</td>\n",
       "    </tr>\n",
       "    <tr>\n",
       "      <th>1</th>\n",
       "      <td>0</td>\n",
       "      <td>58</td>\n",
       "      <td>0</td>\n",
       "      <td>3870.000000</td>\n",
       "      <td>0</td>\n",
       "      <td>0</td>\n",
       "      <td>5166.0</td>\n",
       "      <td>0.0</td>\n",
       "    </tr>\n",
       "    <tr>\n",
       "      <th>2</th>\n",
       "      <td>0</td>\n",
       "      <td>41</td>\n",
       "      <td>0</td>\n",
       "      <td>0.456127</td>\n",
       "      <td>0</td>\n",
       "      <td>0</td>\n",
       "      <td>6666.0</td>\n",
       "      <td>0.0</td>\n",
       "    </tr>\n",
       "    <tr>\n",
       "      <th>3</th>\n",
       "      <td>0</td>\n",
       "      <td>43</td>\n",
       "      <td>0</td>\n",
       "      <td>0.000190</td>\n",
       "      <td>0</td>\n",
       "      <td>0</td>\n",
       "      <td>10500.0</td>\n",
       "      <td>2.0</td>\n",
       "    </tr>\n",
       "    <tr>\n",
       "      <th>4</th>\n",
       "      <td>1</td>\n",
       "      <td>49</td>\n",
       "      <td>0</td>\n",
       "      <td>0.271820</td>\n",
       "      <td>0</td>\n",
       "      <td>0</td>\n",
       "      <td>400.0</td>\n",
       "      <td>0.0</td>\n",
       "    </tr>\n",
       "  </tbody>\n",
       "</table>\n",
       "</div>"
      ],
      "text/plain": [
       "   SeriousDlqin2yrs  age  NumberOfTime30-59DaysPastDueNotWorse    DebtRatio  \\\n",
       "0                 0   64                                     0     0.249908   \n",
       "1                 0   58                                     0  3870.000000   \n",
       "2                 0   41                                     0     0.456127   \n",
       "3                 0   43                                     0     0.000190   \n",
       "4                 1   49                                     0     0.271820   \n",
       "\n",
       "   NumberOfTimes90DaysLate  NumberOfTime60-89DaysPastDueNotWorse  \\\n",
       "0                        0                                     0   \n",
       "1                        0                                     0   \n",
       "2                        0                                     0   \n",
       "3                        0                                     0   \n",
       "4                        0                                     0   \n",
       "\n",
       "   MonthlyIncome  NumberOfDependents  \n",
       "0         8158.0                 0.0  \n",
       "1         5166.0                 0.0  \n",
       "2         6666.0                 0.0  \n",
       "3        10500.0                 2.0  \n",
       "4          400.0                 0.0  "
      ]
     },
     "execution_count": 140,
     "metadata": {},
     "output_type": "execute_result"
    }
   ],
   "source": [
    "table.head()"
   ]
  },
  {
   "cell_type": "code",
   "execution_count": 248,
   "metadata": {},
   "outputs": [],
   "source": [
    "X = table[independent_columns_names]\n",
    "y = table['SeriousDlqin2yrs']"
   ]
  },
  {
   "cell_type": "code",
   "execution_count": 249,
   "metadata": {},
   "outputs": [
    {
     "data": {
      "text/plain": [
       "6205.560459800723"
      ]
     },
     "execution_count": 249,
     "metadata": {},
     "output_type": "execute_result"
    }
   ],
   "source": [
    "data['MonthlyIncome'].mean()"
   ]
  },
  {
   "cell_type": "code",
   "execution_count": 250,
   "metadata": {},
   "outputs": [
    {
     "name": "stdout",
     "output_type": "stream",
     "text": [
      "Monthly Income of good customers: mean interval [6295.93237577 6505.35467934]\n",
      "Monthly Income of bad customers: mean interval [5471.64826451 5643.93562737]\n"
     ]
    }
   ],
   "source": [
    "def get_bootstrap_samples(data, n_samples):\n",
    "    \"\"\"Generate bootstrap samples using the bootstrap method.\"\"\"\n",
    "    indices = np.random.randint(0, len(data), (n_samples, len(data)))\n",
    "    samples = data[indices]\n",
    "    return samples\n",
    "\n",
    "def stat_intervals(stat, alpha):\n",
    "    \"\"\"Produce an interval estimate.\"\"\"\n",
    "    boundaries = np.percentile(stat, [100 * alpha / 2., 100 * (1 - alpha / 2.)])\n",
    "    return boundaries\n",
    "\n",
    "# Save the data about the loyal and former customers to split the dataset\n",
    "good_customers = data[data['SeriousDlqin2yrs'] == 0]['MonthlyIncome'].values\n",
    "bad_customers = data[data['SeriousDlqin2yrs'] == 1]['MonthlyIncome'].values\n",
    "\n",
    "# Set the seed for reproducibility of the results\n",
    "np.random.seed(17)\n",
    "\n",
    "# Generate the samples using bootstrapping and calculate the mean for each of them\n",
    "good_mean_scores = [np.mean(sample) \n",
    "                       for sample in get_bootstrap_samples(good_customers, 1000)]\n",
    "bad_mean_scores = [np.mean(sample) \n",
    "                       for sample in get_bootstrap_samples(bad_customers, 1000)]\n",
    "\n",
    "# Print the resulting interval estimates\n",
    "print(\"Monthly Income of good customers: mean interval\", stat_intervals(good_mean_scores, 0.10))\n",
    "print(\"Monthly Income of bad customers: mean interval\", stat_intervals(bad_mean_scores, 0.10))\n",
    "\n",
    "good_interval = stat_intervals(good_mean_scores, 0.10)\n",
    "bad_interval = stat_intervals(bad_mean_scores, 0.10)"
   ]
  },
  {
   "cell_type": "code",
   "execution_count": 251,
   "metadata": {},
   "outputs": [
    {
     "data": {
      "text/plain": [
       "651.9967484053386"
      ]
     },
     "execution_count": 251,
     "metadata": {},
     "output_type": "execute_result"
    }
   ],
   "source": [
    "good_interval[0] - bad_interval[1]"
   ]
  },
  {
   "cell_type": "code",
   "execution_count": 252,
   "metadata": {},
   "outputs": [],
   "source": [
    "from sklearn.tree import DecisionTreeClassifier\n",
    "from sklearn.model_selection import GridSearchCV, StratifiedKFold\n",
    "from sklearn.ensemble import RandomForestClassifier\n",
    "from sklearn.linear_model import LogisticRegression"
   ]
  },
  {
   "cell_type": "code",
   "execution_count": 253,
   "metadata": {},
   "outputs": [],
   "source": [
    "dt = DecisionTreeClassifier(random_state=17, class_weight='balanced')\n"
   ]
  },
  {
   "cell_type": "code",
   "execution_count": 254,
   "metadata": {},
   "outputs": [],
   "source": [
    "max_depth_values = [5, 6, 7, 8, 9]\n",
    "max_features_values = [4, 5, 6, 7]\n",
    "tree_params = {'max_depth': max_depth_values,\n",
    "               'max_features': max_features_values}"
   ]
  },
  {
   "cell_type": "code",
   "execution_count": 255,
   "metadata": {},
   "outputs": [],
   "source": [
    "skf = StratifiedKFold(n_splits=5, shuffle=True, random_state=17)\n"
   ]
  },
  {
   "cell_type": "code",
   "execution_count": 256,
   "metadata": {},
   "outputs": [
    {
     "name": "stdout",
     "output_type": "stream",
     "text": [
      "Fitting 5 folds for each of 20 candidates, totalling 100 fits\n"
     ]
    },
    {
     "name": "stderr",
     "output_type": "stream",
     "text": [
      "[Parallel(n_jobs=8)]: Done  34 tasks      | elapsed:    1.9s\n",
      "[Parallel(n_jobs=8)]: Done 100 out of 100 | elapsed:    5.1s finished\n"
     ]
    },
    {
     "data": {
      "text/plain": [
       "GridSearchCV(cv=StratifiedKFold(n_splits=5, random_state=17, shuffle=True),\n",
       "       error_score='raise',\n",
       "       estimator=DecisionTreeClassifier(class_weight='balanced', criterion='gini',\n",
       "            max_depth=None, max_features=None, max_leaf_nodes=None,\n",
       "            min_impurity_decrease=0.0, min_impurity_split=None,\n",
       "            min_samples_leaf=1, min_samples_split=2,\n",
       "            min_weight_fraction_leaf=0.0, presort=False, random_state=17,\n",
       "            splitter='best'),\n",
       "       fit_params=None, iid=True, n_jobs=8,\n",
       "       param_grid={'max_depth': [5, 6, 7, 8, 9], 'max_features': [4, 5, 6, 7]},\n",
       "       pre_dispatch='2*n_jobs', refit=True, return_train_score='warn',\n",
       "       scoring='roc_auc', verbose=True)"
      ]
     },
     "execution_count": 256,
     "metadata": {},
     "output_type": "execute_result"
    }
   ],
   "source": [
    "clf = GridSearchCV(dt, tree_params, cv=skf, scoring='roc_auc',\n",
    "                      verbose=True, n_jobs=8)\n",
    "\n",
    "clf.fit(X, y)"
   ]
  },
  {
   "cell_type": "code",
   "execution_count": 235,
   "metadata": {},
   "outputs": [
    {
     "data": {
      "text/plain": [
       "(0.8203023476209635, {'max_depth': 7, 'max_features': 6})"
      ]
     },
     "execution_count": 235,
     "metadata": {},
     "output_type": "execute_result"
    }
   ],
   "source": [
    "clf.best_score_, clf.best_params_"
   ]
  },
  {
   "cell_type": "code",
   "execution_count": 237,
   "metadata": {},
   "outputs": [
    {
     "data": {
      "text/plain": [
       "0.5902677243387983"
      ]
     },
     "execution_count": 237,
     "metadata": {},
     "output_type": "execute_result"
    }
   ],
   "source": [
    "# best_score_std/best_score > 1%\n",
    "#clf.cv_results_\n",
    "( 0.00484198 / 0.8203023476209635) * 100"
   ]
  },
  {
   "cell_type": "code",
   "execution_count": 151,
   "metadata": {},
   "outputs": [
    {
     "name": "stderr",
     "output_type": "stream",
     "text": [
      "/Users/monicasieklucki/anaconda3/lib/python3.6/site-packages/sklearn/utils/deprecation.py:122: FutureWarning: You are accessing a training score ('split0_train_score'), which will not be available by default any more in 0.21. If you need training scores, please set return_train_score=True\n",
      "  warnings.warn(*warn_args, **warn_kwargs)\n",
      "/Users/monicasieklucki/anaconda3/lib/python3.6/site-packages/sklearn/utils/deprecation.py:122: FutureWarning: You are accessing a training score ('split1_train_score'), which will not be available by default any more in 0.21. If you need training scores, please set return_train_score=True\n",
      "  warnings.warn(*warn_args, **warn_kwargs)\n",
      "/Users/monicasieklucki/anaconda3/lib/python3.6/site-packages/sklearn/utils/deprecation.py:122: FutureWarning: You are accessing a training score ('split2_train_score'), which will not be available by default any more in 0.21. If you need training scores, please set return_train_score=True\n",
      "  warnings.warn(*warn_args, **warn_kwargs)\n",
      "/Users/monicasieklucki/anaconda3/lib/python3.6/site-packages/sklearn/utils/deprecation.py:122: FutureWarning: You are accessing a training score ('split3_train_score'), which will not be available by default any more in 0.21. If you need training scores, please set return_train_score=True\n",
      "  warnings.warn(*warn_args, **warn_kwargs)\n",
      "/Users/monicasieklucki/anaconda3/lib/python3.6/site-packages/sklearn/utils/deprecation.py:122: FutureWarning: You are accessing a training score ('split4_train_score'), which will not be available by default any more in 0.21. If you need training scores, please set return_train_score=True\n",
      "  warnings.warn(*warn_args, **warn_kwargs)\n",
      "/Users/monicasieklucki/anaconda3/lib/python3.6/site-packages/sklearn/utils/deprecation.py:122: FutureWarning: You are accessing a training score ('mean_train_score'), which will not be available by default any more in 0.21. If you need training scores, please set return_train_score=True\n",
      "  warnings.warn(*warn_args, **warn_kwargs)\n",
      "/Users/monicasieklucki/anaconda3/lib/python3.6/site-packages/sklearn/utils/deprecation.py:122: FutureWarning: You are accessing a training score ('std_train_score'), which will not be available by default any more in 0.21. If you need training scores, please set return_train_score=True\n",
      "  warnings.warn(*warn_args, **warn_kwargs)\n"
     ]
    },
    {
     "data": {
      "text/plain": [
       "{'mean_fit_time': array([0.17756095, 0.1280417 , 0.17358899, 0.2110146 , 0.18643765,\n",
       "        0.15538964, 0.20138044, 0.25512681, 0.23674717, 0.25846276,\n",
       "        0.24041986, 0.28455248, 0.22972927, 0.26494389, 0.28917179,\n",
       "        0.30933585, 0.2392221 , 0.2789434 , 0.31265769, 0.33360348]),\n",
       " 'std_fit_time': array([0.01624143, 0.03534016, 0.05856355, 0.01204463, 0.00473107,\n",
       "        0.05677769, 0.02430024, 0.01271839, 0.02515171, 0.01744783,\n",
       "        0.02246042, 0.01322734, 0.01396475, 0.00736535, 0.01020293,\n",
       "        0.00881039, 0.01130051, 0.00648899, 0.0071236 , 0.04827186]),\n",
       " 'mean_score_time': array([0.03673921, 0.01147232, 0.0074131 , 0.0055676 , 0.00555797,\n",
       "        0.00487709, 0.01339312, 0.01632938, 0.01056166, 0.01154246,\n",
       "        0.01131101, 0.00539942, 0.01087413, 0.0081697 , 0.00740175,\n",
       "        0.01563835, 0.01175857, 0.009096  , 0.01235642, 0.00787134]),\n",
       " 'std_score_time': array([0.02017059, 0.00578528, 0.00401679, 0.00048125, 0.00026584,\n",
       "        0.00074835, 0.00394247, 0.01267589, 0.00644548, 0.00412101,\n",
       "        0.00499631, 0.00025055, 0.00664849, 0.0049584 , 0.00408506,\n",
       "        0.00571406, 0.00688196, 0.00434845, 0.00474059, 0.00495752]),\n",
       " 'param_max_depth': masked_array(data=[5, 5, 5, 5, 6, 6, 6, 6, 7, 7, 7, 7, 8, 8, 8, 8, 9, 9,\n",
       "                    9, 9],\n",
       "              mask=[False, False, False, False, False, False, False, False,\n",
       "                    False, False, False, False, False, False, False, False,\n",
       "                    False, False, False, False],\n",
       "        fill_value='?',\n",
       "             dtype=object),\n",
       " 'param_max_features': masked_array(data=[4, 5, 6, 7, 4, 5, 6, 7, 4, 5, 6, 7, 4, 5, 6, 7, 4, 5,\n",
       "                    6, 7],\n",
       "              mask=[False, False, False, False, False, False, False, False,\n",
       "                    False, False, False, False, False, False, False, False,\n",
       "                    False, False, False, False],\n",
       "        fill_value='?',\n",
       "             dtype=object),\n",
       " 'params': [{'max_depth': 5, 'max_features': 4},\n",
       "  {'max_depth': 5, 'max_features': 5},\n",
       "  {'max_depth': 5, 'max_features': 6},\n",
       "  {'max_depth': 5, 'max_features': 7},\n",
       "  {'max_depth': 6, 'max_features': 4},\n",
       "  {'max_depth': 6, 'max_features': 5},\n",
       "  {'max_depth': 6, 'max_features': 6},\n",
       "  {'max_depth': 6, 'max_features': 7},\n",
       "  {'max_depth': 7, 'max_features': 4},\n",
       "  {'max_depth': 7, 'max_features': 5},\n",
       "  {'max_depth': 7, 'max_features': 6},\n",
       "  {'max_depth': 7, 'max_features': 7},\n",
       "  {'max_depth': 8, 'max_features': 4},\n",
       "  {'max_depth': 8, 'max_features': 5},\n",
       "  {'max_depth': 8, 'max_features': 6},\n",
       "  {'max_depth': 8, 'max_features': 7},\n",
       "  {'max_depth': 9, 'max_features': 4},\n",
       "  {'max_depth': 9, 'max_features': 5},\n",
       "  {'max_depth': 9, 'max_features': 6},\n",
       "  {'max_depth': 9, 'max_features': 7}],\n",
       " 'split0_test_score': array([0.81296095, 0.80385826, 0.81268007, 0.81744813, 0.81623523,\n",
       "        0.81324808, 0.81182608, 0.8192747 , 0.81737521, 0.8125499 ,\n",
       "        0.81783858, 0.82027373, 0.81542658, 0.81787724, 0.81667458,\n",
       "        0.82113011, 0.81593874, 0.81536992, 0.81136232, 0.81364628]),\n",
       " 'split1_test_score': array([0.81577026, 0.80216351, 0.81453707, 0.81603988, 0.81509522,\n",
       "        0.82056051, 0.81706418, 0.81700234, 0.81423247, 0.82236141,\n",
       "        0.8202384 , 0.81741988, 0.81266326, 0.81909047, 0.81738334,\n",
       "        0.81907307, 0.80180282, 0.81393153, 0.8088513 , 0.81160462]),\n",
       " 'split2_test_score': array([0.80790887, 0.80759262, 0.811552  , 0.8137576 , 0.815959  ,\n",
       "        0.81545871, 0.81518158, 0.81855138, 0.81665093, 0.81077558,\n",
       "        0.82292844, 0.81738248, 0.81587874, 0.81848173, 0.81563353,\n",
       "        0.81705861, 0.80551871, 0.80807326, 0.81237071, 0.81001304]),\n",
       " 'split3_test_score': array([0.81118305, 0.80282745, 0.80824719, 0.81174266, 0.82005422,\n",
       "        0.81848931, 0.8184717 , 0.82001159, 0.82252208, 0.81992297,\n",
       "        0.82379405, 0.82242748, 0.81520845, 0.8166609 , 0.81412446,\n",
       "        0.81113297, 0.81096808, 0.81320251, 0.81302239, 0.81001649]),\n",
       " 'split4_test_score': array([0.80663359, 0.80552803, 0.80855803, 0.81536988, 0.81137409,\n",
       "        0.8130073 , 0.81068134, 0.82035997, 0.8169544 , 0.81866975,\n",
       "        0.81671282, 0.81765289, 0.81326134, 0.81095435, 0.8106124 ,\n",
       "        0.8135179 , 0.8101623 , 0.80929519, 0.80263538, 0.8041158 ]),\n",
       " 'mean_test_score': array([0.81089154, 0.8043939 , 0.81111502, 0.81487177, 0.81574356,\n",
       "        0.81615275, 0.8146449 , 0.81903996, 0.81754694, 0.81685585,\n",
       "        0.82030235, 0.81903131, 0.81448767, 0.81661305, 0.8148858 ,\n",
       "        0.8163828 , 0.80887829, 0.81197468, 0.80964848, 0.80987945]),\n",
       " 'std_test_score': array([0.00332252, 0.00196126, 0.00241302, 0.00196384, 0.00277056,\n",
       "        0.0029564 , 0.00298129, 0.00119434, 0.00271735, 0.00443893,\n",
       "        0.00275848, 0.00201456, 0.00127816, 0.00294106, 0.00240157,\n",
       "        0.00363321, 0.00484198, 0.00280234, 0.00378275, 0.00317558]),\n",
       " 'rank_test_score': array([16, 20, 15, 11,  9,  8, 12,  2,  4,  5,  1,  3, 13,  6, 10,  7, 19,\n",
       "        14, 18, 17], dtype=int32),\n",
       " 'split0_train_score': array([0.81359563, 0.81100098, 0.81646376, 0.81831302, 0.82228032,\n",
       "        0.82327305, 0.82276267, 0.82844753, 0.83203985, 0.83159662,\n",
       "        0.83467646, 0.83439558, 0.83993048, 0.84089157, 0.84149534,\n",
       "        0.84258799, 0.84821405, 0.84758314, 0.85105728, 0.85079149]),\n",
       " 'split1_train_score': array([0.81735315, 0.81249668, 0.81807694, 0.81877097, 0.8233729 ,\n",
       "        0.82843792, 0.82880126, 0.8286905 , 0.83249512, 0.83566292,\n",
       "        0.83790162, 0.83486164, 0.84130517, 0.8426437 , 0.84275273,\n",
       "        0.84300282, 0.84943128, 0.84855828, 0.85137975, 0.85124424]),\n",
       " 'split2_train_score': array([0.81476833, 0.80932186, 0.81658436, 0.81939332, 0.82266785,\n",
       "        0.82366896, 0.82317782, 0.82777425, 0.83018397, 0.83220552,\n",
       "        0.83482294, 0.83389417, 0.83851434, 0.84174813, 0.84233678,\n",
       "        0.84195982, 0.84736272, 0.85024516, 0.84984707, 0.85027631]),\n",
       " 'split3_train_score': array([0.81843296, 0.81423641, 0.81913483, 0.81937412, 0.82427162,\n",
       "        0.82878437, 0.82721365, 0.82714839, 0.83152133, 0.83532767,\n",
       "        0.83669448, 0.83358995, 0.83767457, 0.84077101, 0.84204786,\n",
       "        0.84242675, 0.84842519, 0.84892407, 0.85010627, 0.85099671]),\n",
       " 'split4_train_score': array([0.81524547, 0.80925617, 0.81717133, 0.81956617, 0.82353488,\n",
       "        0.82310452, 0.8241602 , 0.82789195, 0.83267902, 0.83252339,\n",
       "        0.83480411, 0.83469833, 0.83960408, 0.84294754, 0.84257491,\n",
       "        0.84331462, 0.84859692, 0.85019798, 0.85072452, 0.85114032]),\n",
       " 'mean_train_score': array([0.81587911, 0.81126242, 0.81748624, 0.81908352, 0.82322551,\n",
       "        0.82545376, 0.82522312, 0.82799052, 0.83178386, 0.83346323,\n",
       "        0.83577992, 0.83428793, 0.83940573, 0.84180039, 0.84224152,\n",
       "        0.8426584 , 0.84840603, 0.84910173, 0.85062298, 0.85088982]),\n",
       " 'std_train_score': array([0.00176321, 0.0019093 , 0.00100248, 0.00047005, 0.00069515,\n",
       "        0.00258682, 0.00237201, 0.0005412 , 0.00089457, 0.00168903,\n",
       "        0.00129798, 0.00047987, 0.0012421 , 0.00088492, 0.00044178,\n",
       "        0.00046816, 0.00066533, 0.00101412, 0.00057283, 0.0003423 ])}"
      ]
     },
     "execution_count": 151,
     "metadata": {},
     "output_type": "execute_result"
    }
   ],
   "source": [
    "clf.cv_results_ "
   ]
  },
  {
   "cell_type": "code",
   "execution_count": 152,
   "metadata": {},
   "outputs": [
    {
     "name": "stderr",
     "output_type": "stream",
     "text": [
      "/Users/monicasieklucki/anaconda3/lib/python3.6/site-packages/sklearn/utils/deprecation.py:122: FutureWarning: You are accessing a training score ('std_train_score'), which will not be available by default any more in 0.21. If you need training scores, please set return_train_score=True\n",
      "  warnings.warn(*warn_args, **warn_kwargs)\n"
     ]
    },
    {
     "data": {
      "text/plain": [
       "0.06536016055195612"
      ]
     },
     "execution_count": 152,
     "metadata": {},
     "output_type": "execute_result"
    }
   ],
   "source": [
    "clf.cv_results_['std_train_score'].std() * 100"
   ]
  },
  {
   "cell_type": "code",
   "execution_count": 318,
   "metadata": {},
   "outputs": [],
   "source": [
    "from sklearn.base import BaseEstimator\n",
    "from sklearn.model_selection import cross_val_score\n",
    "\n",
    "class RandomForestClassifierCustom(BaseEstimator):\n",
    "    def __init__(self, n_estimators=10, max_depth=10, max_features=10, \n",
    "                 random_state=17):\n",
    "        self.n_estimators = n_estimators\n",
    "        self.max_depth = max_depth\n",
    "        self.max_features = max_features\n",
    "        self.random_state = random_state\n",
    "        \n",
    "        self.trees = []\n",
    "        self.feat_ids_by_tree = []\n",
    "        \n",
    "    \n",
    "    def fit(self, X, y):            \n",
    "        # Your code is here\n",
    "        self.feat_ids_by_tree = X.columns.values\n",
    "        for i in range(self.n_estimators):\n",
    "            bootstrap_samples = np.random.choice(np.asarray(self.feat_ids_by_tree), size=10, replace=True)\n",
    "\n",
    "            self.random_state = self.random_state + i\n",
    "            dt = DecisionTreeClassifier(random_state=self.random_state, class_weight='balanced',\n",
    "                                    max_depth = self.max_depth, max_features = self.max_features )\n",
    "            dt.classes_ = bootstrap_samples\n",
    "            dt.n_features_ = 10\n",
    "            self.trees.append(dt)\n",
    "        return self\n",
    "\n",
    "    \n",
    "    def predict_proba(self, X):\n",
    "        average = 0.00\n",
    "        # Your code is here\n",
    "        for dt in self.trees:\n",
    "            tree_params = {'max_depth': [dt.max_depth],\n",
    "               'max_features': [dt.max_features] }\n",
    "\n",
    "            skf = StratifiedKFold(n_splits=5, shuffle=True, random_state=dt.random_state)\n",
    "            clf = GridSearchCV(dt, tree_params, cv=skf, scoring='roc_auc')\n",
    "            clf.fit(X, y)\n",
    "            clf.best_score_\n",
    "            average += clf.best_score_\n",
    "\n",
    "        return ( average / len(self.trees) )"
   ]
  },
  {
   "cell_type": "code",
   "execution_count": 326,
   "metadata": {},
   "outputs": [
    {
     "data": {
      "text/plain": [
       "RandomForestClassifierCustom(max_depth=10, max_features=7, n_estimators=10,\n",
       "               random_state=62)"
      ]
     },
     "execution_count": 326,
     "metadata": {},
     "output_type": "execute_result"
    }
   ],
   "source": [
    "clf = RandomForestClassifierCustom(n_estimators=10, max_depth=10, max_features=7, \n",
    "                 random_state=17)\n",
    "\n",
    "clf.fit(X, y)\n"
   ]
  },
  {
   "cell_type": "code",
   "execution_count": 327,
   "metadata": {},
   "outputs": [
    {
     "name": "stdout",
     "output_type": "stream",
     "text": [
      "0.7991791807976668\n",
      "0.8013176300099001\n",
      "0.8003111805077433\n",
      "0.8019102276538148\n",
      "0.8003171460541618\n",
      "0.8029463838201809\n",
      "0.7978426129823631\n",
      "0.7997274521904565\n",
      "0.8002178945910978\n",
      "0.7994713003048994\n"
     ]
    }
   ],
   "source": [
    "average = clf.predict_proba(X)\n"
   ]
  },
  {
   "cell_type": "code",
   "execution_count": 321,
   "metadata": {},
   "outputs": [
    {
     "name": "stdout",
     "output_type": "stream",
     "text": [
      "0.8003241008912285\n"
     ]
    }
   ],
   "source": [
    "print(average)"
   ]
  },
  {
   "cell_type": "code",
   "execution_count": 187,
   "metadata": {
    "scrolled": false
   },
   "outputs": [
    {
     "data": {
      "text/plain": [
       "GridSearchCV(cv=StratifiedKFold(n_splits=5, random_state=17, shuffle=True),\n",
       "       error_score='raise',\n",
       "       estimator=RandomForestClassifier(bootstrap=True, class_weight=None, criterion='gini',\n",
       "            max_depth=10, max_features=10, max_leaf_nodes=None,\n",
       "            min_impurity_decrease=0.0, min_impurity_split=None,\n",
       "            min_samples_leaf=1, min_samples_split=2,\n",
       "            min_weight_fraction_leaf=0.0, n_estimators=10, n_jobs=1,\n",
       "            oob_score=False, random_state=17, verbose=0, warm_start=False),\n",
       "       fit_params=None, iid=True, n_jobs=1,\n",
       "       param_grid={'max_depth': range(5, 15), 'max_features': [4, 5, 6, 7]},\n",
       "       pre_dispatch='2*n_jobs', refit=True, return_train_score='warn',\n",
       "       scoring='roc_auc', verbose=0)"
      ]
     },
     "execution_count": 187,
     "metadata": {},
     "output_type": "execute_result"
    }
   ],
   "source": [
    "rf = RandomForestClassifier(n_estimators=10, max_depth=10, max_features=10, \n",
    "                 random_state=17)\n",
    "\n",
    "\n",
    "#max_depth_values = [5, 6, 7, 8, 9]\n",
    "#max_features_values = [4, 5, 6, 7]\n",
    "max_depth_values = range(5, 15)\n",
    "max_features_values = [4, 5, 6, 7]\n",
    "tree_params = {'max_depth': max_depth_values,\n",
    "               'max_features': max_features_values}\n",
    "\n",
    "skf = StratifiedKFold(n_splits=5, shuffle=True, random_state=17)\n",
    "\n",
    "clf = GridSearchCV(rf, tree_params, cv=skf, scoring='roc_auc')\n",
    "\n",
    "clf.fit(X, y)"
   ]
  },
  {
   "cell_type": "code",
   "execution_count": 188,
   "metadata": {},
   "outputs": [
    {
     "data": {
      "text/plain": [
       "(0.832868063141437, {'max_depth': 8, 'max_features': 4})"
      ]
     },
     "execution_count": 188,
     "metadata": {},
     "output_type": "execute_result"
    }
   ],
   "source": [
    "clf.best_score_, clf.best_params_"
   ]
  },
  {
   "cell_type": "code",
   "execution_count": 200,
   "metadata": {},
   "outputs": [
    {
     "data": {
      "text/plain": [
       "(0.7878626757307206, {'logit__C': 100000.0})"
      ]
     },
     "execution_count": 200,
     "metadata": {},
     "output_type": "execute_result"
    }
   ],
   "source": [
    "from sklearn.pipeline import Pipeline\n",
    "from sklearn.preprocessing import StandardScaler\n",
    "from sklearn.linear_model import LogisticRegression\n",
    "\n",
    "scaler = StandardScaler()\n",
    "logit = LogisticRegression(random_state=17, class_weight='balanced')\n",
    "\n",
    "logit_pipe = Pipeline([('scaler', scaler), ('logit', logit)])\n",
    "logit_pipe_params = {'logit__C': np.logspace(-8, 8, 17)}\n",
    "\n",
    "skf = StratifiedKFold(n_splits=5, shuffle=True, random_state=17)\n",
    "\n",
    "\n",
    "clf = GridSearchCV(logit_pipe, logit_pipe_params, cv=skf, scoring='roc_auc')\n",
    "clf.fit(X, y)\n",
    "clf.best_score_, clf.best_params_"
   ]
  },
  {
   "cell_type": "code",
   "execution_count": 329,
   "metadata": {},
   "outputs": [
    {
     "data": {
      "text/plain": [
       "1    32492\n",
       "0    17508\n",
       "Name: label, dtype: int64"
      ]
     },
     "execution_count": 329,
     "metadata": {},
     "output_type": "execute_result"
    }
   ],
   "source": [
    "# Download data\n",
    "df = pd.read_csv(\"movie_reviews_train.csv\", nrows=50000)\n",
    "\n",
    "# Split data to train and test\n",
    "X_text = df[\"text\"]\n",
    "y_text = df[\"label\"]\n",
    "\n",
    "# Classes counts\n",
    "df.label.value_counts()"
   ]
  },
  {
   "cell_type": "code",
   "execution_count": 222,
   "metadata": {},
   "outputs": [
    {
     "data": {
      "text/plain": [
       "GridSearchCV(cv=StratifiedKFold(n_splits=5, random_state=17, shuffle=True),\n",
       "       error_score='raise',\n",
       "       estimator=Pipeline(memory=None,\n",
       "     steps=[('vectorizer', CountVectorizer(analyzer='word', binary=False, decode_error='strict',\n",
       "        dtype=<class 'numpy.int64'>, encoding='utf-8', input='content',\n",
       "        lowercase=True, max_df=1.0, max_features=100000, min_df=1,\n",
       "        ngram_range=(1, 3), preprocessor=None, stop_words=None,\n",
       "     ...alty='l2', random_state=17, solver='liblinear', tol=0.0001,\n",
       "          verbose=0, warm_start=False))]),\n",
       "       fit_params=None, iid=True, n_jobs=1,\n",
       "       param_grid={'clf__C': array([ 1.25893,  1.58489,  1.99526,  2.51189,  3.16228,  3.98107,\n",
       "        5.01187,  6.30957,  7.94328, 10.     ])},\n",
       "       pre_dispatch='2*n_jobs', refit=True, return_train_score='warn',\n",
       "       scoring='roc_auc', verbose=0)"
      ]
     },
     "execution_count": 222,
     "metadata": {},
     "output_type": "execute_result"
    }
   ],
   "source": [
    "from sklearn.feature_extraction.text import CountVectorizer\n",
    "from sklearn.pipeline import Pipeline\n",
    "\n",
    "# Split on 3 folds\n",
    "skf = StratifiedKFold(n_splits=3, shuffle=True, random_state=17)\n",
    "\n",
    "# In Pipeline we will modify the text and train logistic regression\n",
    "classifier = Pipeline([\n",
    "    ('vectorizer', CountVectorizer(max_features=100000, ngram_range=(1, 3))),\n",
    "    ('clf', LogisticRegression(random_state=17))])\n",
    "\n",
    "#print(classifier.get_params().keys())\n",
    "\n",
    "skf = StratifiedKFold(n_splits=5, shuffle=True, random_state=17)\n",
    "\n",
    "#param_grid = {'clf__C': [0.1, 1, 10, 100] }\n",
    "param_grid = { 'clf__C' : np.logspace(0.1, 1, 10, 100) }\n",
    "clf = GridSearchCV(classifier, param_grid, cv=skf, scoring='roc_auc')\n",
    "clf.fit(X_text, y_text)\n"
   ]
  },
  {
   "cell_type": "code",
   "execution_count": 223,
   "metadata": {},
   "outputs": [
    {
     "data": {
      "text/plain": [
       "(0.8625564378667757, {'clf__C': 1.2589254117941673})"
      ]
     },
     "execution_count": 223,
     "metadata": {},
     "output_type": "execute_result"
    }
   ],
   "source": [
    "clf.best_score_, clf.best_params_"
   ]
  },
  {
   "cell_type": "code",
   "execution_count": 331,
   "metadata": {},
   "outputs": [],
   "source": [
    "classifier = Pipeline([\n",
    "    ('vectorizer', CountVectorizer(max_features=100000, ngram_range=(1, 3))),\n",
    "    ('clf', RandomForestClassifier(random_state=17, n_jobs=-1))])\n",
    "\n",
    "min_samples_leaf = [1, 2, 3]\n",
    "max_features = [0.3, 0.5, 0.7]\n",
    "max_depth = [None]\n",
    "\n",
    "\n"
   ]
  },
  {
   "cell_type": "code",
   "execution_count": null,
   "metadata": {},
   "outputs": [
    {
     "name": "stdout",
     "output_type": "stream",
     "text": [
      "Fitting 5 folds for each of 9 candidates, totalling 45 fits\n"
     ]
    }
   ],
   "source": [
    "tree_params = {'clf__max_depth': max_depth,\n",
    "               'clf__max_features': max_features,\n",
    "               'clf__min_samples_leaf' : min_samples_leaf }\n",
    "\n",
    "clf = GridSearchCV(classifier, tree_params, cv=skf, scoring='roc_auc', verbose=True, n_jobs=-1)\n",
    "clf = clf.fit(X_text, y_text)"
   ]
  },
  {
   "cell_type": "code",
   "execution_count": null,
   "metadata": {},
   "outputs": [],
   "source": [
    "clf.best_score_, clf.best_params_"
   ]
  }
 ],
 "metadata": {
  "kernelspec": {
   "display_name": "Python 3",
   "language": "python",
   "name": "python3"
  },
  "language_info": {
   "codemirror_mode": {
    "name": "ipython",
    "version": 3
   },
   "file_extension": ".py",
   "mimetype": "text/x-python",
   "name": "python",
   "nbconvert_exporter": "python",
   "pygments_lexer": "ipython3",
   "version": "3.6.5"
  }
 },
 "nbformat": 4,
 "nbformat_minor": 2
}
